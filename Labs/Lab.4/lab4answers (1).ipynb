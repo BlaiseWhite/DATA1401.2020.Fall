{
  "nbformat": 4,
  "nbformat_minor": 0,
  "metadata": {
    "kernelspec": {
      "display_name": "Python 3",
      "language": "python",
      "name": "python3"
    },
    "language_info": {
      "codemirror_mode": {
        "name": "ipython",
        "version": 3
      },
      "file_extension": ".py",
      "mimetype": "text/x-python",
      "name": "python",
      "nbconvert_exporter": "python",
      "pygments_lexer": "ipython3",
      "version": "3.8.0"
    },
    "colab": {
      "name": "lab4answers",
      "provenance": []
    }
  },
  "cells": [
    {
      "cell_type": "markdown",
      "metadata": {
        "id": "t7AJPUp-rfpd"
      },
      "source": [
        "## Lab 4\n",
        "\n",
        "[![Open In Colab](https://colab.research.google.com/assets/colab-badge.svg)](https://colab.research.google.com/github/UTA-DataScience/DATA1401.2020.Fall/blob/master/Labs/Lab.4/Lab.4.ipynb)\n",
        "\n",
        "In this lab we will become familiar with distributions, histograms, and functional programming. \n",
        "\n",
        "\n",
        "### Uniform Distribution\n",
        "Lets start with generating some fake random data. You can get a random number between 0 and 1 using the python random module as follow:"
      ]
    },
    {
      "cell_type": "code",
      "metadata": {
        "id": "42JT3snnrfpf",
        "outputId": "5f02cbe5-bcc3-4a20-857c-c27249f44237",
        "colab": {
          "base_uri": "https://localhost:8080/",
          "height": 34
        }
      },
      "source": [
        "import random\n",
        "x=random.random()\n",
        "print(\"The Value of x is\", x)"
      ],
      "execution_count": null,
      "outputs": [
        {
          "output_type": "stream",
          "text": [
            "The Value of x is 0.1001820202948196\n"
          ],
          "name": "stdout"
        }
      ]
    },
    {
      "cell_type": "markdown",
      "metadata": {
        "id": "GdXNBi4Nrfpl"
      },
      "source": [
        "Everytime you call random, you will get a new number.\n",
        "\n",
        "*Exercise 1:* Using random, write a function `generate_uniform(N, mymin, mymax)`, that returns a python list containing N random numbers between specified minimum and maximum value. Note that you may want to quickly work out on paper how to turn numbers between 0 and 1 to between other values. "
      ]
    },
    {
      "cell_type": "code",
      "metadata": {
        "id": "QQVujI-irfpl"
      },
      "source": [
        "# Skeleton\n",
        "def generate_uniform(N,x_min,x_max):\n",
        "    out = []\n",
        "    ### BEGIN SOLUTION\n",
        "    # Fill in your solution here        \n",
        "    for i in range(N):\n",
        "      out.append(random.randint(x_min,x_max))\n",
        "    ### END SOLUTION\n",
        "    return out"
      ],
      "execution_count": null,
      "outputs": []
    },
    {
      "cell_type": "code",
      "metadata": {
        "id": "pKzeToYgrfpq",
        "outputId": "b860b709-0ee7-4749-8d2e-c853fd6fc120",
        "colab": {
          "base_uri": "https://localhost:8080/",
          "height": 102
        }
      },
      "source": [
        "# Test your solution here\n",
        "data=generate_uniform(1000,-10,10)\n",
        "print (\"Data Type:\", type(data))\n",
        "print (\"Data Length:\", len(data))\n",
        "if len(data)>0: \n",
        "    print (\"Type of Data Contents:\", type(data[0]))\n",
        "    print (\"Data Minimum:\", min(data))\n",
        "    print (\"Data Maximum:\", max(data))"
      ],
      "execution_count": null,
      "outputs": [
        {
          "output_type": "stream",
          "text": [
            "Data Type: <class 'list'>\n",
            "Data Length: 1000\n",
            "Type of Data Contents: <class 'int'>\n",
            "Data Minimum: -10\n",
            "Data Maximum: 10\n"
          ],
          "name": "stdout"
        }
      ]
    },
    {
      "cell_type": "markdown",
      "metadata": {
        "id": "9N2jvaBKrfpu"
      },
      "source": [
        "*Exercise 2a:* \n",
        "Write a function that computes the mean of values in a list."
      ]
    },
    {
      "cell_type": "code",
      "metadata": {
        "id": "CTi6_Oadrfpv"
      },
      "source": [
        "# Skeleton\n",
        "def mean(Data):\n",
        "    m=0\n",
        "    \n",
        "    ### BEGIN SOLUTION\n",
        "    return sum(Data) / len(Data)       \n",
        "    \n",
        "    ### END SOLUTION\n",
        "    \n",
        "    return m"
      ],
      "execution_count": null,
      "outputs": []
    },
    {
      "cell_type": "code",
      "metadata": {
        "id": "FvppPf_orfpz",
        "outputId": "01ba22da-09ec-4ece-8ceb-9c68dd615364",
        "colab": {
          "base_uri": "https://localhost:8080/",
          "height": 34
        }
      },
      "source": [
        "# Test your solution here\n",
        "test= list(range(0,10))\n",
        "print (\"Mean of Data:\", mean(data))"
      ],
      "execution_count": null,
      "outputs": [
        {
          "output_type": "stream",
          "text": [
            "Mean of Data: -0.46\n"
          ],
          "name": "stdout"
        }
      ]
    },
    {
      "cell_type": "markdown",
      "metadata": {
        "id": "jxinZB_Mrfp4"
      },
      "source": [
        "*Exercise 2b:* \n",
        "Write a function that computes the variance of values in a list."
      ]
    },
    {
      "cell_type": "code",
      "metadata": {
        "id": "hjL-PDyzrfp5"
      },
      "source": [
        "# Skeleton\n",
        "def variance(Data):\n",
        "    m=0.\n",
        "    \n",
        "    ### BEGIN SOLUTION\n",
        "   # Fill in your solution here   \n",
        "    mean = sum(Data) / len(Data)\n",
        "    return sum(map(lambda y: y**2,Data))/len(Data)-mean**2\n",
        "    ### END SOLUTION\n",
        "    \n",
        "    return m"
      ],
      "execution_count": null,
      "outputs": []
    },
    {
      "cell_type": "code",
      "metadata": {
        "id": "RYYH2BaQrfp9",
        "outputId": "59324716-e466-451f-a5ed-452a799edb42",
        "colab": {
          "base_uri": "https://localhost:8080/",
          "height": 34
        }
      },
      "source": [
        "# Test your solution here\n",
        "print (\"Variance of Data:\", variance(data))"
      ],
      "execution_count": null,
      "outputs": [
        {
          "output_type": "stream",
          "text": [
            "Variance of Data: 36.052400000000006\n"
          ],
          "name": "stdout"
        }
      ]
    },
    {
      "cell_type": "markdown",
      "metadata": {
        "id": "78QhvsFerfqC"
      },
      "source": [
        "## Histogramming"
      ]
    },
    {
      "cell_type": "markdown",
      "metadata": {
        "id": "w7EtGaYZrfqC"
      },
      "source": [
        "*Exercise 3:* Write a function that bins the data so that you can create a histogram. An example of how to implement histogramming is the following logic:\n",
        "\n",
        "* User inputs a list of values `x` and optionally `n_bins` which defaults to 10.\n",
        "* If not supplied, find the minimum and maximum (`x_min`,`x_max`) of the values in x.\n",
        "* Determine the bin size (`bin_size`) by dividing the range of the function by the number of bins.\n",
        "* Create an empty list of zeros of size `n_bins`, call it `hist`.\n",
        "* Loop over the values in `x`\n",
        "    * Loop over the values in `hist` with index `i`:\n",
        "        * If x is between `x_min+i*bin_size` and `x_min+(i+1)*bin_size`, increment `hist[i].` \n",
        "        * For efficiency, try to use continue to goto the next bin and data point.\n",
        "* Return `hist` and the list corresponding of the bin edges (i.e. of `x_min+i*bin_size`).    "
      ]
    },
    {
      "cell_type": "code",
      "metadata": {
        "id": "-X6R4_LyrfqD"
      },
      "source": [
        "# Solution\n",
        "def histogram(x,n_bins=10,x_min=None,x_max=None):\n",
        "    ### BEGIN SOLUTION\n",
        "      # Fill in your solution here \n",
        "    x_min = min(x)\n",
        "    x_max = max(x)\n",
        "    bin_size = (x_max-x_min)/n_bins\n",
        "    hist= [0]*n_bins\n",
        "    bin_edges = list()\n",
        "    for edge in range(n_bins+1):\n",
        "          bin_edges.append(x_min+edge*bin_size)\n",
        "    for item in x:\n",
        "        for i in range(n_bins):\n",
        "            if x_min+i*bin_size <= item <= x_min+(i+1)*bin_size:\n",
        "               hist[i] +=1 \n",
        "    bin_edges = [round(x,2) for x in bin_edges]\n",
        "    return hist,bin_edges"
      ],
      "execution_count": null,
      "outputs": []
    },
    {
      "cell_type": "code",
      "metadata": {
        "id": "FM7mP6b_rfqH",
        "outputId": "d6f6c276-3f13-432e-b890-b39651e14692",
        "colab": {
          "base_uri": "https://localhost:8080/",
          "height": 54
        }
      },
      "source": [
        "# Test your solution here\n",
        "h,b=histogram(data,100)\n",
        "print(h)"
      ],
      "execution_count": null,
      "outputs": [
        {
          "output_type": "stream",
          "text": [
            "[49, 0, 0, 0, 58, 58, 0, 0, 0, 47, 47, 0, 0, 0, 54, 54, 0, 0, 0, 46, 46, 0, 0, 0, 50, 50, 0, 0, 0, 67, 67, 0, 0, 0, 52, 52, 0, 0, 0, 42, 42, 0, 0, 0, 39, 39, 0, 0, 0, 56, 56, 0, 0, 0, 46, 46, 0, 0, 0, 39, 39, 0, 0, 0, 42, 42, 0, 0, 0, 54, 54, 0, 0, 0, 52, 52, 0, 0, 0, 44, 44, 0, 0, 0, 34, 34, 0, 0, 0, 53, 53, 0, 0, 0, 33, 33, 0, 0, 0, 43]\n"
          ],
          "name": "stdout"
        }
      ]
    },
    {
      "cell_type": "markdown",
      "metadata": {
        "id": "x4E5L3e1rfqL"
      },
      "source": [
        "*Exercise 4:* Write a function that uses the histogram function in the previous exercise to create a text-based \"graph\". For example the output could look like the following:\n",
        "```\n",
        "[  0,  1] : ######\n",
        "[  1,  2] : #####\n",
        "[  2,  3] : ######\n",
        "[  3,  4] : ####\n",
        "[  4,  5] : ####\n",
        "[  5,  6] : ######\n",
        "[  6,  7] : #####\n",
        "[  7,  8] : ######\n",
        "[  8,  9] : ####\n",
        "[  9, 10] : #####\n",
        "```\n",
        "\n",
        "Where each line corresponds to a bin and the number of `#`'s are proportional to the value of the data in the bin. "
      ]
    },
    {
      "cell_type": "code",
      "metadata": {
        "id": "a4pioYuBrfqM"
      },
      "source": [
        "# Solution\n",
        "def draw_histogram(x,n_bins,x_min=None,x_max=None,character=\"#\",max_character_per_line=20):\n",
        "    ### BEGIN SOLUTION\n",
        "    x_min = min(x)\n",
        "    x_max = max(x)\n",
        "    bin_size = (x_max-x_min)/n_bins\n",
        "    hist= [0]*n_bins\n",
        "    bin_edges = list()\n",
        "    for edge in range(n_bins+1):\n",
        "        bin_edges.append(x_min+edge*bin_size)\n",
        "    for item in x:\n",
        "        for i in range(n_bins):\n",
        "            if x_min+i*bin_size <= item <= x_min+(i+1)*bin_size:\n",
        "                hist[i] +=1 \n",
        "    bin_edges = [round(x,2) for x in bin_edges]       \n",
        "    for i, j in enumerate(hist):\n",
        "        print(f\"[ {bin_edges[i]} , {bin_edges[i+1]} ] : {int(hist[i])*character} \")\n",
        "    ### END SOLUTION\n",
        "\n",
        "    return hist,bin_edges"
      ],
      "execution_count": null,
      "outputs": []
    },
    {
      "cell_type": "code",
      "metadata": {
        "id": "xdaYGUT1rfqQ",
        "outputId": "eccca8d3-70fc-463b-93a0-d8d8e9f888f1",
        "colab": {
          "base_uri": "https://localhost:8080/",
          "height": 34
        }
      },
      "source": [
        "# Test your solution here\n",
        "h,b=histogram(data,20)\n",
        "\n",
        "\n",
        "print('WHY WONT IT PRINT')"
      ],
      "execution_count": null,
      "outputs": [
        {
          "output_type": "stream",
          "text": [
            "WHY WONT IT PRINT\n"
          ],
          "name": "stdout"
        }
      ]
    },
    {
      "cell_type": "markdown",
      "metadata": {
        "id": "hB634lcKrfqU"
      },
      "source": [
        "## Functional Programming\n",
        "\n",
        "*Exercise 5:* Write a function the applies a booling function (that returns true/false) to every element in data, and return a list of indices of elements where the result was true. Use this function to find the indices of entries greater than 0.5. "
      ]
    },
    {
      "cell_type": "code",
      "metadata": {
        "id": "W2vkfAK5rfqV"
      },
      "source": [
        "def where(mylist,myfunc):\n",
        "    out= []\n",
        "    \n",
        "    ### BEGIN SOLUTION\n",
        "    \n",
        "    # Fill in your solution here        \n",
        "    for i, val in enumerate(mylist):\n",
        "      if myfunc(val):\n",
        "        out.append(i)\n",
        "    ### END SOLUTION\n",
        "    \n",
        "    return out"
      ],
      "execution_count": null,
      "outputs": []
    },
    {
      "cell_type": "code",
      "metadata": {
        "id": "4KYge-7NrfqZ",
        "outputId": "395f5cba-1a01-425a-d787-e07213547e05",
        "colab": {
          "base_uri": "https://localhost:8080/",
          "height": 34
        }
      },
      "source": [
        "# Test your solution here\n",
        "lst= [0,.1,.2,.3,.4,5,6,7,.8,9,10,.11]\n",
        "where(lst,lambda x: x>.5)"
      ],
      "execution_count": null,
      "outputs": [
        {
          "output_type": "execute_result",
          "data": {
            "text/plain": [
              "[5, 6, 7, 8, 9, 10]"
            ]
          },
          "metadata": {
            "tags": []
          },
          "execution_count": 14
        }
      ]
    },
    {
      "cell_type": "markdown",
      "metadata": {
        "id": "_rEwpIk2rfqd"
      },
      "source": [
        "*Exercise 6:* The inrange(mymin,mymax) function below returns a function that tests if it's input is between the specified values. Write corresponding functions that test:\n",
        "* Even\n",
        "* Odd\n",
        "* Greater than\n",
        "* Less than\n",
        "* Equal\n",
        "* Divisible by"
      ]
    },
    {
      "cell_type": "code",
      "metadata": {
        "id": "oneZ5lLhrfqe",
        "outputId": "97071591-69b7-4ec9-ca04-15f8d56df4f8",
        "colab": {
          "base_uri": "https://localhost:8080/",
          "height": 85
        }
      },
      "source": [
        "def in_range(mymin,mymax):\n",
        "    def testrange(x):\n",
        "        return x<mymax and x>=mymin\n",
        "    return testrange\n",
        "\n",
        "# Examples:\n",
        "F1=in_range(0,10)\n",
        "F2=in_range(10,20)\n",
        "\n",
        "# Test of in_range\n",
        "print (F1(0), F1(1), F1(10), F1(15), F1(20))\n",
        "print (F2(0), F2(1), F2(10), F2(15), F2(20))\n",
        "\n",
        "print (\"Number of Entries passing F1:\", len(where(data,F1)))\n",
        "print (\"Number of Entries passing F2:\", len(where(data,F2)))"
      ],
      "execution_count": null,
      "outputs": [
        {
          "output_type": "stream",
          "text": [
            "True True False False False\n",
            "False False True True False\n",
            "Number of Entries passing F1: 453\n",
            "Number of Entries passing F2: 43\n"
          ],
          "name": "stdout"
        }
      ]
    },
    {
      "cell_type": "code",
      "metadata": {
        "id": "vLksk5ylrfqi"
      },
      "source": [
        "### BEGIN SOLUTION\n",
        "def even(x):\n",
        "  return x%2==0\n",
        "def odd(x):\n",
        "  return x%2!=0\n",
        "def greater_than(x,y):\n",
        "  return x>y\n",
        "def lesser_than(x,y):\n",
        "  return x<y\n",
        "def equal(x,y):\n",
        "  return x==y\n",
        "def divisible(x,y):\n",
        "  return x%y==0      \n",
        "    \n",
        "### END SOLUTION"
      ],
      "execution_count": null,
      "outputs": []
    },
    {
      "cell_type": "code",
      "metadata": {
        "id": "FXZsWQC1rfqm",
        "outputId": "8158a81d-ac5e-4af7-b513-83856d521a54",
        "colab": {
          "base_uri": "https://localhost:8080/",
          "height": 119
        }
      },
      "source": [
        "# Test your solution\n",
        "print(even(0), even(1), even(2))\n",
        "print(odd(0),odd(1),odd(2))\n",
        "print(greater_than(0,1),greater_than(1,0),greater_than(0,0))\n",
        "print(lesser_than(0,1),lesser_than(1,0),lesser_than(0,0))\n",
        "print(equal(0,1),equal(1,0),equal(0,0))\n",
        "print(divisible(10,1),divisible(1,10),divisible(10,10))"
      ],
      "execution_count": null,
      "outputs": [
        {
          "output_type": "stream",
          "text": [
            "True False True\n",
            "False True False\n",
            "False True False\n",
            "True False False\n",
            "False False True\n",
            "True False True\n"
          ],
          "name": "stdout"
        }
      ]
    },
    {
      "cell_type": "markdown",
      "metadata": {
        "id": "AD1-nKyfrfqr"
      },
      "source": [
        "*Exercise 7:* Repeat the previous exercise using `lambda` and the built-in python functions sum and map instead of your solution above. "
      ]
    },
    {
      "cell_type": "code",
      "metadata": {
        "id": "GxKIGjYZrfqs"
      },
      "source": [
        "even =lambda x: x%2== 0\n",
        "odd =lambda x: x%2!=0\n",
        "greater =lambda x,y: x>y\n",
        "lesser =lambda x,y: x<y\n",
        "equal =lambda x,y: x==y\n",
        "divisible =lambda x,y: x%y==0"
      ],
      "execution_count": null,
      "outputs": []
    },
    {
      "cell_type": "code",
      "metadata": {
        "id": "5ThVJa2crPpf",
        "outputId": "60cdaf4b-0592-4420-ecfa-a4ed106cfb41",
        "colab": {
          "base_uri": "https://localhost:8080/",
          "height": 119
        }
      },
      "source": [
        "print(even(0), even(1), even(2))\n",
        "print(odd(0),odd(1),odd(2))\n",
        "print(greater_than(0,1),greater_than(1,0),greater_than(0,0))\n",
        "print(lesser_than(0,1),lesser_than(1,0),lesser_than(0,0))\n",
        "print(equal(0,1),equal(1,0),equal(0,0))\n",
        "print(divisible(10,1),divisible(1,10),divisible(10,10))"
      ],
      "execution_count": null,
      "outputs": [
        {
          "output_type": "stream",
          "text": [
            "True False True\n",
            "False True False\n",
            "False True False\n",
            "True False False\n",
            "False False True\n",
            "True False True\n"
          ],
          "name": "stdout"
        }
      ]
    },
    {
      "cell_type": "markdown",
      "metadata": {
        "id": "weSjZQr0rfqz"
      },
      "source": [
        "## Monte Carlo\n",
        "\n",
        "*Exercise 7:* Write a \"generator\" function called `generate_function(func,x_min,x_max,N)`, that instead of generating a flat distribution, generates a distribution with functional form coded in `func`. Note that `func` will always be > 0.  \n",
        "\n",
        "Use the test function below and your histogramming functions above to demonstrate that your generator is working properly.\n",
        "\n",
        "Hint: A simple, but slow, solution is to a draw random number test_x within the specified range and another number p between the min and max of the function (which you will have to determine). If p<=function(test_x), then place test_x on the output. If not, repeat the process, drawing two new numbers. Repeat until you have the specified number of generated numbers, N. For this problem, it's OK to determine the min and max by numerically sampling the function.  "
      ]
    },
    {
      "cell_type": "code",
      "metadata": {
        "id": "_ZTbb1tLrfq0"
      },
      "source": [
        "def generate_function(func,x_min,x_max,N=1000):\n",
        "    out = list()\n",
        "    ### BEGIN SOLUTION\n",
        "    while True:\n",
        "      test_x = random.choice(range(x_min,x_max))\n",
        "      p = random.choice(range(x_min,x_max))\n",
        "      if p<= func(test_x):\n",
        "        out.append(test_x)\n",
        "        if len(out)==N:\n",
        "           break \n",
        "    return out\n",
        "    # Fill in your solution here        \n",
        "    \n",
        "    ### END SOLUTION"
      ],
      "execution_count": null,
      "outputs": []
    },
    {
      "cell_type": "code",
      "metadata": {
        "id": "xMkEq922rfq6"
      },
      "source": [
        "# A test function\n",
        "def test_func(x,a=1,b=1):\n",
        "    return abs(a*x+b)"
      ],
      "execution_count": null,
      "outputs": []
    },
    {
      "cell_type": "code",
      "metadata": {
        "id": "vMB0ncGpulHe",
        "outputId": "7d16c633-f59a-4fbc-8681-d1e9a072c8f0",
        "colab": {
          "base_uri": "https://localhost:8080/",
          "height": 54
        }
      },
      "source": [
        "list1 =  generate_function(test_func,0,100,1000)\n",
        "print(list1)"
      ],
      "execution_count": null,
      "outputs": [
        {
          "output_type": "stream",
          "text": [
            "[2, 86, 86, 27, 24, 79, 83, 81, 18, 28, 95, 92, 70, 37, 81, 80, 46, 81, 86, 97, 62, 89, 90, 85, 81, 87, 70, 24, 84, 90, 86, 59, 85, 53, 70, 70, 58, 18, 74, 63, 87, 72, 80, 96, 84, 84, 68, 94, 89, 86, 94, 58, 49, 86, 25, 66, 33, 33, 52, 71, 62, 88, 93, 86, 71, 51, 60, 81, 40, 85, 38, 58, 44, 48, 90, 68, 76, 73, 88, 60, 73, 48, 87, 53, 57, 94, 46, 9, 55, 99, 79, 73, 95, 90, 96, 41, 78, 83, 54, 46, 57, 95, 92, 92, 80, 42, 40, 90, 36, 60, 51, 80, 96, 93, 54, 88, 84, 63, 91, 73, 46, 93, 86, 58, 4, 83, 96, 66, 95, 72, 77, 53, 89, 68, 34, 54, 13, 34, 30, 74, 96, 91, 16, 67, 65, 89, 91, 86, 43, 90, 90, 33, 86, 36, 81, 57, 13, 52, 39, 34, 31, 67, 54, 68, 92, 81, 15, 96, 72, 90, 39, 56, 77, 59, 55, 90, 96, 79, 82, 45, 67, 37, 70, 51, 78, 48, 78, 83, 78, 52, 22, 68, 38, 54, 80, 55, 80, 46, 17, 29, 56, 31, 51, 35, 68, 32, 55, 73, 32, 76, 79, 20, 92, 85, 96, 55, 68, 82, 85, 45, 40, 48, 91, 19, 94, 63, 62, 63, 61, 98, 44, 82, 25, 86, 55, 95, 59, 70, 75, 97, 99, 36, 26, 65, 77, 67, 83, 97, 85, 99, 68, 9, 49, 65, 64, 93, 97, 57, 50, 90, 81, 98, 75, 88, 54, 44, 79, 97, 45, 52, 41, 74, 84, 78, 56, 84, 94, 95, 31, 45, 54, 43, 45, 29, 90, 71, 55, 64, 96, 77, 85, 91, 58, 71, 84, 65, 40, 73, 88, 71, 96, 38, 20, 42, 46, 74, 78, 80, 95, 46, 87, 92, 38, 73, 78, 71, 64, 40, 68, 78, 97, 98, 93, 90, 41, 49, 77, 64, 61, 41, 37, 48, 23, 79, 37, 22, 90, 76, 81, 68, 2, 75, 58, 72, 96, 92, 33, 87, 19, 68, 58, 91, 66, 86, 11, 90, 95, 98, 52, 62, 81, 13, 84, 93, 81, 52, 98, 82, 89, 72, 81, 65, 52, 66, 16, 23, 85, 62, 79, 86, 17, 79, 57, 24, 89, 79, 48, 56, 93, 50, 30, 61, 53, 92, 67, 92, 77, 44, 31, 74, 52, 62, 30, 95, 67, 87, 94, 46, 54, 76, 62, 66, 97, 89, 96, 21, 20, 34, 94, 68, 78, 89, 82, 70, 50, 59, 82, 68, 42, 80, 75, 63, 66, 69, 59, 89, 56, 17, 50, 60, 42, 74, 72, 93, 76, 73, 82, 21, 47, 87, 42, 84, 12, 81, 50, 78, 65, 84, 93, 40, 92, 82, 48, 26, 61, 40, 62, 68, 18, 16, 62, 33, 91, 57, 80, 93, 67, 18, 95, 73, 82, 24, 89, 49, 79, 95, 23, 33, 81, 77, 51, 97, 84, 98, 52, 57, 85, 69, 92, 55, 66, 78, 78, 68, 78, 83, 66, 94, 91, 52, 84, 76, 74, 66, 90, 50, 93, 84, 15, 29, 7, 70, 91, 69, 84, 91, 99, 79, 68, 81, 96, 84, 36, 49, 11, 65, 95, 90, 77, 95, 65, 29, 63, 28, 41, 12, 93, 61, 89, 53, 74, 81, 46, 82, 82, 55, 51, 78, 56, 45, 59, 88, 99, 72, 61, 95, 80, 55, 88, 76, 76, 69, 71, 49, 74, 94, 19, 39, 43, 87, 53, 98, 81, 7, 62, 59, 42, 96, 43, 72, 77, 60, 44, 80, 91, 82, 57, 91, 82, 79, 58, 89, 96, 44, 75, 74, 64, 77, 96, 26, 49, 77, 88, 77, 97, 71, 61, 95, 24, 55, 37, 71, 65, 76, 91, 77, 95, 67, 80, 65, 98, 92, 45, 33, 48, 43, 31, 87, 91, 46, 98, 59, 83, 91, 88, 92, 30, 61, 49, 88, 57, 59, 46, 49, 66, 81, 67, 92, 12, 54, 99, 96, 54, 40, 89, 22, 18, 24, 91, 88, 70, 36, 84, 75, 66, 71, 70, 57, 93, 79, 34, 16, 73, 85, 72, 97, 57, 52, 88, 94, 61, 87, 79, 91, 71, 38, 34, 77, 76, 54, 91, 85, 21, 97, 80, 57, 95, 47, 78, 99, 44, 91, 45, 92, 33, 98, 50, 56, 70, 41, 92, 64, 74, 67, 42, 33, 93, 98, 59, 89, 86, 74, 98, 72, 38, 85, 81, 82, 72, 39, 93, 57, 8, 87, 57, 15, 58, 32, 77, 11, 67, 37, 96, 66, 59, 98, 73, 44, 98, 91, 76, 34, 84, 65, 94, 90, 62, 76, 45, 75, 98, 97, 45, 20, 41, 63, 18, 50, 76, 30, 12, 56, 96, 49, 59, 44, 26, 90, 76, 53, 38, 33, 54, 58, 88, 3, 67, 86, 74, 33, 64, 76, 62, 94, 30, 57, 94, 74, 84, 85, 52, 52, 98, 75, 96, 57, 25, 91, 81, 50, 76, 71, 97, 40, 88, 67, 64, 76, 99, 89, 71, 88, 99, 91, 89, 71, 51, 3, 91, 78, 39, 21, 78, 48, 94, 79, 97, 47, 81, 65, 59, 68, 82, 94, 94, 66, 91, 66, 93, 78, 99, 71, 83, 61, 64, 70, 58, 73, 62, 82, 92, 88, 71, 76, 44, 22, 31, 78, 61, 77, 63, 90, 88, 62, 73, 26, 74, 60, 79, 8, 93, 69, 84, 70, 76, 97, 48, 90, 46, 50, 95, 95, 41, 52, 79, 97, 94, 7, 35, 37, 81, 59, 93, 45, 25, 40, 39, 70, 55, 97, 72, 67, 94, 59, 72, 91, 83, 34, 73, 22, 68, 93, 92, 70, 44, 80, 69, 98, 43, 82, 84, 96, 60, 66, 91, 42, 86, 64, 86, 54, 94, 57, 79, 80, 87, 88, 66, 46, 87, 91, 64, 85, 91, 79, 68, 28, 91, 86, 45, 39, 64, 80, 61, 94, 81, 65, 91, 26, 86, 60, 59, 83, 70, 68, 86, 88, 98, 70, 14, 54, 90, 75, 51, 74, 63, 9, 83, 88, 96, 71]\n"
          ],
          "name": "stdout"
        }
      ]
    },
    {
      "cell_type": "markdown",
      "metadata": {
        "id": "Sfq8X7dPrfq_"
      },
      "source": [
        "*Exercise 8:* Use your function to generate 1000 numbers that are normal distributed, using the `gaussian` function below. Confirm the mean and variance of the data is close to the mean and variance you specify when building the Gaussian. Histogram the data. "
      ]
    },
    {
      "cell_type": "code",
      "metadata": {
        "id": "GNMuxSiqrfq_",
        "outputId": "aa9e8ed4-3c6f-4708-a6fd-12d1d46fe47d",
        "colab": {
          "base_uri": "https://localhost:8080/",
          "height": 632
        }
      },
      "source": [
        "import math\n",
        "\n",
        "def gaussian(mean, sigma):\n",
        "    def f(x):\n",
        "        return math.exp(-((x-mean)**2)/(2*sigma**2))/math.sqrt(math.pi*sigma)\n",
        "    return f\n",
        "\n",
        "# Example Instantiation\n",
        "g1=gaussian(0,1)\n",
        "g2=gaussian(10,3)\n",
        "gauss_list = generate_function(g1,0,10,1000)\n",
        "print(gauss_list)\n",
        "\n",
        "mean(gauss_list)\n",
        "print(mean(gauss_list))\n",
        "variance(gauss_list)\n",
        "print(variance(gauss_list))\n",
        "out= generate= generate_function(g1,-3,3,1000)\n",
        "draw_histogram(out,15)"
      ],
      "execution_count": 40,
      "outputs": [
        {
          "output_type": "stream",
          "text": [
            "[2, 8, 2, 1, 9, 5, 9, 7, 8, 5, 5, 2, 5, 9, 5, 7, 0, 8, 0, 4, 6, 7, 9, 5, 9, 8, 6, 8, 1, 4, 6, 3, 6, 5, 6, 3, 5, 3, 7, 6, 5, 2, 1, 3, 0, 2, 6, 8, 6, 8, 0, 2, 5, 0, 5, 6, 3, 6, 0, 1, 4, 5, 3, 4, 7, 7, 6, 3, 2, 2, 0, 7, 4, 6, 2, 1, 4, 5, 3, 2, 6, 9, 3, 4, 4, 5, 6, 5, 6, 5, 9, 8, 6, 1, 8, 6, 3, 2, 2, 3, 3, 0, 3, 3, 5, 2, 3, 9, 8, 8, 6, 8, 4, 4, 0, 9, 3, 7, 7, 8, 1, 4, 4, 4, 2, 4, 5, 1, 4, 7, 6, 3, 8, 8, 9, 4, 0, 7, 5, 9, 5, 2, 9, 7, 7, 2, 3, 4, 0, 5, 5, 3, 0, 8, 7, 3, 0, 2, 4, 3, 9, 7, 6, 1, 4, 3, 0, 0, 0, 3, 2, 3, 3, 6, 2, 8, 1, 0, 9, 2, 0, 3, 9, 1, 0, 9, 8, 2, 2, 8, 5, 5, 1, 8, 3, 9, 6, 0, 3, 8, 4, 8, 5, 0, 5, 1, 8, 2, 2, 4, 2, 3, 1, 3, 2, 3, 4, 5, 0, 4, 6, 7, 8, 6, 2, 4, 3, 8, 4, 9, 1, 3, 2, 9, 8, 1, 9, 1, 1, 9, 9, 0, 3, 4, 6, 9, 9, 9, 3, 4, 4, 6, 2, 1, 7, 4, 9, 2, 0, 9, 5, 2, 1, 6, 5, 4, 5, 8, 7, 2, 7, 4, 1, 6, 1, 3, 6, 9, 1, 8, 3, 7, 3, 4, 0, 5, 8, 2, 5, 8, 3, 8, 8, 2, 8, 8, 5, 7, 3, 0, 1, 5, 6, 7, 9, 4, 5, 4, 8, 8, 6, 2, 6, 0, 1, 0, 7, 9, 7, 9, 0, 4, 3, 1, 6, 0, 0, 1, 5, 7, 0, 5, 7, 5, 5, 2, 8, 0, 9, 7, 7, 2, 2, 3, 5, 7, 4, 8, 0, 4, 9, 6, 8, 9, 9, 1, 7, 7, 3, 6, 0, 7, 6, 1, 9, 9, 2, 2, 9, 9, 6, 0, 4, 8, 4, 4, 3, 2, 0, 7, 8, 8, 3, 9, 0, 6, 3, 1, 0, 4, 5, 7, 3, 1, 8, 2, 5, 1, 6, 4, 5, 8, 6, 4, 8, 0, 8, 1, 1, 8, 5, 9, 8, 3, 2, 7, 7, 4, 4, 1, 4, 6, 1, 4, 1, 8, 0, 4, 1, 6, 7, 8, 5, 8, 4, 8, 9, 3, 7, 4, 9, 7, 5, 3, 4, 8, 5, 3, 0, 4, 4, 8, 3, 7, 7, 1, 3, 6, 4, 8, 3, 6, 8, 0, 5, 7, 8, 4, 6, 1, 7, 1, 6, 4, 1, 1, 3, 3, 3, 7, 0, 3, 9, 1, 4, 6, 1, 3, 5, 0, 3, 1, 1, 6, 8, 4, 3, 9, 6, 6, 9, 5, 0, 5, 8, 9, 6, 7, 2, 0, 1, 6, 6, 3, 9, 2, 6, 1, 6, 8, 1, 5, 8, 1, 2, 5, 8, 5, 2, 0, 3, 9, 6, 2, 9, 4, 5, 9, 6, 9, 6, 9, 0, 6, 0, 0, 3, 2, 5, 6, 1, 8, 0, 3, 3, 6, 3, 0, 6, 7, 7, 5, 9, 8, 2, 2, 4, 4, 7, 1, 5, 6, 6, 6, 6, 0, 0, 0, 0, 5, 1, 1, 7, 1, 7, 9, 9, 1, 2, 9, 1, 4, 9, 4, 2, 8, 3, 5, 8, 5, 1, 2, 2, 5, 1, 5, 8, 6, 4, 8, 1, 2, 6, 7, 9, 1, 1, 0, 5, 9, 7, 5, 7, 1, 6, 1, 5, 8, 4, 8, 4, 7, 3, 4, 3, 7, 9, 5, 9, 4, 5, 0, 3, 1, 5, 2, 3, 9, 9, 8, 5, 3, 8, 0, 0, 4, 0, 6, 4, 3, 6, 9, 8, 5, 4, 8, 9, 4, 2, 3, 0, 1, 4, 1, 0, 0, 9, 3, 7, 7, 0, 7, 8, 3, 4, 5, 6, 2, 2, 3, 0, 3, 1, 6, 9, 4, 8, 0, 2, 5, 3, 0, 7, 8, 4, 0, 3, 5, 4, 7, 5, 4, 4, 7, 0, 4, 4, 1, 5, 5, 1, 7, 5, 3, 1, 6, 5, 2, 2, 1, 3, 5, 3, 2, 7, 1, 4, 7, 6, 6, 4, 1, 2, 2, 3, 7, 3, 5, 4, 1, 2, 8, 4, 2, 4, 5, 0, 3, 0, 6, 7, 4, 7, 4, 9, 6, 1, 8, 4, 2, 3, 3, 2, 9, 0, 0, 1, 4, 3, 3, 5, 8, 6, 0, 6, 8, 2, 1, 8, 6, 5, 0, 3, 3, 3, 4, 9, 4, 2, 5, 5, 2, 9, 7, 4, 0, 3, 9, 0, 5, 7, 6, 0, 3, 4, 6, 8, 3, 3, 8, 2, 7, 7, 2, 7, 2, 1, 6, 0, 9, 0, 0, 3, 5, 3, 9, 9, 3, 0, 2, 0, 6, 8, 4, 4, 6, 2, 3, 6, 8, 5, 5, 8, 1, 1, 4, 3, 1, 1, 8, 9, 9, 0, 7, 4, 3, 5, 3, 5, 4, 4, 9, 8, 5, 2, 1, 2, 6, 1, 6, 9, 9, 7, 6, 5, 1, 4, 5, 2, 9, 5, 7, 3, 6, 5, 5, 9, 4, 4, 3, 4, 3, 9, 2, 3, 4, 9, 9, 8, 2, 4, 4, 0, 8, 2, 3, 8, 8, 4, 2, 9, 1, 0, 4, 1, 2, 7, 0, 9, 9, 7, 9, 7, 6, 1, 9, 5, 7, 2, 8, 6, 6, 5, 2, 8, 8, 5, 9, 8, 4, 5, 3, 1, 2, 5, 1, 9, 8, 7, 3, 9, 7, 8, 1, 0, 0, 1, 7, 9, 0, 7, 8, 0, 7, 3, 6, 9, 4, 1, 2, 7, 0, 7, 3, 4, 4, 0, 4, 7, 7, 9, 5, 2, 8, 3, 4, 2, 2, 5, 3]\n",
            "4.481\n",
            "7.949639000000001\n",
            "[ -3.0 , -2.67 ] : ############################################################################################################################################################## \n",
            "[ -2.67 , -2.33 ] :  \n",
            "[ -2.33 , -2.0 ] : ############################################################################################################################################################### \n",
            "[ -2.0 , -1.67 ] : ############################################################################################################################################################### \n",
            "[ -1.67 , -1.33 ] :  \n",
            "[ -1.33 , -1.0 ] : ############################################################################################################################################################################ \n",
            "[ -1.0 , -0.67 ] : ############################################################################################################################################################################ \n",
            "[ -0.67 , -0.33 ] :  \n",
            "[ -0.33 , 0.0 ] : ###################################################################################################################################################################### \n",
            "[ 0.0 , 0.33 ] : ###################################################################################################################################################################### \n",
            "[ 0.33 , 0.67 ] :  \n",
            "[ 0.67 , 1.0 ] : ############################################################################################################################################################################### \n",
            "[ 1.0 , 1.33 ] : ############################################################################################################################################################################### \n",
            "[ 1.33 , 1.67 ] :  \n",
            "[ 1.67 , 2.0 ] : ########################################################################################################################################################################## \n"
          ],
          "name": "stdout"
        },
        {
          "output_type": "execute_result",
          "data": {
            "text/plain": [
              "([158, 0, 159, 159, 0, 172, 172, 0, 166, 166, 0, 175, 175, 0, 170],\n",
              " [-3.0,\n",
              "  -2.67,\n",
              "  -2.33,\n",
              "  -2.0,\n",
              "  -1.67,\n",
              "  -1.33,\n",
              "  -1.0,\n",
              "  -0.67,\n",
              "  -0.33,\n",
              "  0.0,\n",
              "  0.33,\n",
              "  0.67,\n",
              "  1.0,\n",
              "  1.33,\n",
              "  1.67,\n",
              "  2.0])"
            ]
          },
          "metadata": {
            "tags": []
          },
          "execution_count": 40
        }
      ]
    },
    {
      "cell_type": "markdown",
      "metadata": {
        "id": "EGWIYfNhrfrJ"
      },
      "source": [
        "*Exercise 9:* Combine your `generate_function`, `where`, and `in_range` functions above to create an integrate function. Use your integrate function to show that approximately 68% of Normal distribution is within one variance."
      ]
    },
    {
      "cell_type": "code",
      "metadata": {
        "id": "7N9emlxnrfrK"
      },
      "source": [
        "def integrate(func, x_min, x_max, n_points=1000):\n",
        "    x = generate_function(g2,0,20)\n",
        "    h = (x_max-x_min)/(n_points)\n",
        "    s = .5*(func(x_min)+func(x_max))\n",
        "    for i in range(1,n_points,1):\n",
        "      s=s+func(x_min+i*h)\n",
        "    integral=h*s\n",
        "    return integral\n",
        "def integral(x):\n",
        "  constant = 1/math.sqrt(2*math.pi)\n",
        "  return (constant*math.exp((-x**2)/2))"
      ],
      "execution_count": null,
      "outputs": []
    },
    {
      "cell_type": "code",
      "metadata": {
        "id": "kRT1t0MqrfrO",
        "outputId": "08bf1c1c-9420-4afb-ebab-a5798ed91fa3",
        "colab": {
          "base_uri": "https://localhost:8080/",
          "height": 34
        }
      },
      "source": [
        "test= integrate(integral,2,10)\n",
        "print(test)"
      ],
      "execution_count": null,
      "outputs": [
        {
          "output_type": "stream",
          "text": [
            "0.02275070785120774\n"
          ],
          "name": "stdout"
        }
      ]
    }
  ]
}