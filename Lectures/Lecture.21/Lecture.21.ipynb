{
 "cells": [
  {
   "cell_type": "markdown",
   "metadata": {},
   "source": [
    "# Lecture 21\n",
    "\n",
    "## Scaling/Shifting\n",
    "\n",
    "In the beginning of Lab 4 you are asked to take random numbers between 0 and 1 and scale and shift them to be between $x_{min}$ and $x_{max}$. The formula is pretty basic. If $x_0$ is between 0 and 1 then $x$ computed as:\n",
    "$$\n",
    "x= (x_{max}-x_{min}) x_0 + x_{min}\n",
    "$$\n",
    "will be between $x_{min}$ and $x_{max}$. \n",
    "\n",
    "In your solution, you'll most likely generate $x_0$ one by one, compute $x$, and store $x$ into a list to be returned from your function.\n"
   ]
  },
  {
   "cell_type": "markdown",
   "metadata": {},
   "source": [
    "## Mean/Variance\n",
    "\n",
    "Also for lab 4, remember the equations for mean/variance. If you have a data sample ${x_1, x_2, ..., x_N}$ the mean is:\n",
    "\n",
    "$$ \n",
    "\\bar{x} = \\frac{1}{N}\\sum_{i=1}^{N} x_i\n",
    "$$\n",
    "\n",
    "and the variance is:\n",
    "\n",
    "$$\n",
    "<x^2> = \\frac{1}{N-1} \\sum_{i=1}^{N} (x_i - \\bar{x})^2\n",
    "$$\n"
   ]
  },
  {
   "cell_type": "markdown",
   "metadata": {},
   "source": [
    "## Min, Max, ArgMin, ArgMax\n",
    "\n",
    "Consider a list of random numbers:"
   ]
  },
  {
   "cell_type": "code",
   "execution_count": 1,
   "metadata": {},
   "outputs": [],
   "source": [
    "import random\n",
    "data = [random.random() for _ in range(100)]"
   ]
  },
  {
   "cell_type": "code",
   "execution_count": 9,
   "metadata": {
    "scrolled": true
   },
   "outputs": [
    {
     "data": {
      "text/plain": [
       "[0.3714741752528551,\n",
       " 0.37020741561247006,\n",
       " 0.09718712005733443,\n",
       " 0.09728770147950605,\n",
       " 0.5470211906309793,\n",
       " 0.259093984499544,\n",
       " 0.5091774103972622,\n",
       " 0.920652063608099,\n",
       " 0.3537106521831658,\n",
       " 0.8535299241329874,\n",
       " 0.47748365120492586,\n",
       " 0.14978876272204655,\n",
       " 0.9909624004708119,\n",
       " 0.35808175734042025,\n",
       " 0.36243527395838815,\n",
       " 0.15613107448960362,\n",
       " 0.698668470127755,\n",
       " 0.9220726934442105,\n",
       " 0.29242856159332087,\n",
       " 0.32374396322373067,\n",
       " 0.7532203624830164,\n",
       " 0.5762385322802838,\n",
       " 0.655406750338706,\n",
       " 0.5445177420468859,\n",
       " 0.961064591288397,\n",
       " 0.6695614408021253,\n",
       " 0.8584022777348199,\n",
       " 0.9848181680704408,\n",
       " 0.15368876578762924,\n",
       " 0.8006577423638463,\n",
       " 0.10662674509841952,\n",
       " 0.13821264326949279,\n",
       " 0.17868802707303,\n",
       " 0.6941254048327877,\n",
       " 0.752222492655567,\n",
       " 0.3402314262904865,\n",
       " 0.44143233599976495,\n",
       " 0.01364884184799331,\n",
       " 0.5870669169344229,\n",
       " 0.28367240818207773,\n",
       " 0.4127628265636737,\n",
       " 0.7602866876586336,\n",
       " 0.10472217169202647,\n",
       " 0.3529531225918847,\n",
       " 0.2263129461468424,\n",
       " 0.1708973387416557,\n",
       " 0.4778513111465653,\n",
       " 0.8823126179428117,\n",
       " 0.8401199511055564,\n",
       " 0.09014226744065534,\n",
       " 0.1528634064844191,\n",
       " 0.13358771899192834,\n",
       " 0.8553494267712254,\n",
       " 0.9223632890620803,\n",
       " 0.005606329314204794,\n",
       " 0.012091160255852662,\n",
       " 0.3955774657209373,\n",
       " 0.5635604607443548,\n",
       " 0.6316168758538651,\n",
       " 0.05292415353921731,\n",
       " 0.917037217257104,\n",
       " 0.9605402481996599,\n",
       " 0.18957542238309555,\n",
       " 0.13896573652709965,\n",
       " 0.004395744060134099,\n",
       " 0.49072445822132704,\n",
       " 0.10603652614363623,\n",
       " 0.8834381096724301,\n",
       " 0.44797698159653965,\n",
       " 0.609465784320148,\n",
       " 0.41507705923988425,\n",
       " 0.8501189070135505,\n",
       " 0.09852946135255569,\n",
       " 0.9264397154647441,\n",
       " 0.36874308492856667,\n",
       " 0.3849914828276043,\n",
       " 0.08070760316067205,\n",
       " 0.954178494191625,\n",
       " 0.13125581754481952,\n",
       " 0.4295339807997246,\n",
       " 0.3505990390332012,\n",
       " 0.9014680509601256,\n",
       " 0.5946346259365725,\n",
       " 0.11316103011457512,\n",
       " 0.29946379640096754,\n",
       " 0.9456117315425085,\n",
       " 0.5528125932816189,\n",
       " 0.0624021673377253,\n",
       " 0.061646735333165226,\n",
       " 0.8479500925790318,\n",
       " 0.09409321025022876,\n",
       " 0.18864892590252724,\n",
       " 0.3507382351792623,\n",
       " 0.3943299127513009,\n",
       " 0.595992700580837,\n",
       " 0.3196752809558583,\n",
       " 0.746940650395974,\n",
       " 0.9863484610632824,\n",
       " 0.01832788348612513,\n",
       " 0.6164028516514913]"
      ]
     },
     "execution_count": 9,
     "metadata": {},
     "output_type": "execute_result"
    }
   ],
   "source": [
    "data"
   ]
  },
  {
   "cell_type": "markdown",
   "metadata": {},
   "source": [
    "You find the largest and smallest numbers in the list:"
   ]
  },
  {
   "cell_type": "code",
   "execution_count": 2,
   "metadata": {},
   "outputs": [
    {
     "data": {
      "text/plain": [
       "(0.9909624004708119, 0.004395744060134099)"
      ]
     },
     "execution_count": 2,
     "metadata": {},
     "output_type": "execute_result"
    }
   ],
   "source": [
    "max(data),min(data)"
   ]
  },
  {
   "cell_type": "markdown",
   "metadata": {},
   "source": [
    "It is convenient that `max` and `min` are available in python, but let's think about how we would implement one of these functions:"
   ]
  },
  {
   "cell_type": "code",
   "execution_count": 3,
   "metadata": {},
   "outputs": [],
   "source": [
    "def find_max(d):\n",
    "    a_max=d[0]\n",
    "    for e in d:\n",
    "        if e>a_max:\n",
    "            a_max=e\n",
    "    return a_max"
   ]
  },
  {
   "cell_type": "code",
   "execution_count": 4,
   "metadata": {},
   "outputs": [
    {
     "data": {
      "text/plain": [
       "0.9909624004708119"
      ]
     },
     "execution_count": 4,
     "metadata": {},
     "output_type": "execute_result"
    }
   ],
   "source": [
    "find_max(data)"
   ]
  },
  {
   "cell_type": "markdown",
   "metadata": {},
   "source": [
    "While `max` gives us the largest value, we may instead be interested to know which element in the list is the largest (i.e. what is the index of the largest value)... this is where `argmax` comes in:"
   ]
  },
  {
   "cell_type": "code",
   "execution_count": 5,
   "metadata": {},
   "outputs": [],
   "source": [
    "def find_argmax(d):\n",
    "    a_max=d[0]\n",
    "    i_max=0\n",
    "    for i,e in enumerate(d):\n",
    "        if e>a_max:\n",
    "            a_max=e\n",
    "            i_max=i\n",
    "    return i_max"
   ]
  },
  {
   "cell_type": "code",
   "execution_count": 6,
   "metadata": {},
   "outputs": [
    {
     "data": {
      "text/plain": [
       "12"
      ]
     },
     "execution_count": 6,
     "metadata": {},
     "output_type": "execute_result"
    }
   ],
   "source": [
    "find_argmax(data)"
   ]
  },
  {
   "cell_type": "markdown",
   "metadata": {},
   "source": [
    "## Numerical Manipulation of Mathematical Functions \n",
    "\n",
    "Recall that we can easily make a list of sequential intergers using `range`."
   ]
  },
  {
   "cell_type": "code",
   "execution_count": 10,
   "metadata": {},
   "outputs": [
    {
     "data": {
      "text/plain": [
       "[5, 8, 11, 14, 17]"
      ]
     },
     "execution_count": 10,
     "metadata": {},
     "output_type": "execute_result"
    }
   ],
   "source": [
    "list(range(5,20,3))"
   ]
  },
  {
   "cell_type": "markdown",
   "metadata": {},
   "source": [
    "What if we wanted to do something similar but with non-intergers, for example in step size of 1/2:"
   ]
  },
  {
   "cell_type": "code",
   "execution_count": 12,
   "metadata": {},
   "outputs": [
    {
     "ename": "TypeError",
     "evalue": "'float' object cannot be interpreted as an integer",
     "output_type": "error",
     "traceback": [
      "\u001b[0;31m---------------------------------------------------------------------------\u001b[0m",
      "\u001b[0;31mTypeError\u001b[0m                                 Traceback (most recent call last)",
      "\u001b[0;32m<ipython-input-12-3e0632a49894>\u001b[0m in \u001b[0;36m<module>\u001b[0;34m\u001b[0m\n\u001b[0;32m----> 1\u001b[0;31m \u001b[0mlist\u001b[0m\u001b[0;34m(\u001b[0m\u001b[0mrange\u001b[0m\u001b[0;34m(\u001b[0m\u001b[0;36m5.\u001b[0m\u001b[0;34m,\u001b[0m\u001b[0;36m20.\u001b[0m\u001b[0;34m,\u001b[0m\u001b[0;36m.5\u001b[0m\u001b[0;34m)\u001b[0m\u001b[0;34m)\u001b[0m\u001b[0;34m\u001b[0m\u001b[0;34m\u001b[0m\u001b[0m\n\u001b[0m",
      "\u001b[0;31mTypeError\u001b[0m: 'float' object cannot be interpreted as an integer"
     ]
    }
   ],
   "source": [
    "list(range(5.,20.,.5))"
   ]
  },
  {
   "cell_type": "markdown",
   "metadata": {},
   "source": [
    "Let's implement what we need:"
   ]
  },
  {
   "cell_type": "code",
   "execution_count": 7,
   "metadata": {},
   "outputs": [],
   "source": [
    "def arange(x_min,x_max,step_size=1.):\n",
    "    if x_max<x_min:\n",
    "        return list()\n",
    "    \n",
    "    x=x_min\n",
    "    out = list()\n",
    "    while x<x_max:\n",
    "        out.append(x)\n",
    "        x+=step_size\n",
    "    return out"
   ]
  },
  {
   "cell_type": "markdown",
   "metadata": {},
   "source": [
    "An alternative similar function is:"
   ]
  },
  {
   "cell_type": "code",
   "execution_count": 13,
   "metadata": {},
   "outputs": [],
   "source": [
    "def linspace(x_min,x_max,steps=10):\n",
    "    step_size=(x_max-x_min)/steps\n",
    "    x=x_min\n",
    "    out = list()\n",
    "    for i in range(steps):\n",
    "        out.append(x)\n",
    "        x+=step_size\n",
    "    return out"
   ]
  },
  {
   "cell_type": "markdown",
   "metadata": {},
   "source": [
    "Now lets use what we wrote to investigate a mathematical function:"
   ]
  },
  {
   "cell_type": "code",
   "execution_count": 8,
   "metadata": {},
   "outputs": [],
   "source": [
    "def a_function(x):\n",
    "    return (1+x)**2"
   ]
  },
  {
   "cell_type": "code",
   "execution_count": null,
   "metadata": {},
   "outputs": [],
   "source": [
    "%matplotlib inline\n",
    "import matplotlib.pyplot as plt"
   ]
  },
  {
   "cell_type": "code",
   "execution_count": null,
   "metadata": {},
   "outputs": [],
   "source": []
  },
  {
   "cell_type": "code",
   "execution_count": null,
   "metadata": {},
   "outputs": [],
   "source": []
  },
  {
   "cell_type": "code",
   "execution_count": null,
   "metadata": {},
   "outputs": [],
   "source": [
    "def find_min(f,x_min,x_max,steps=10):\n",
    "    step_size=(x_max-x_min)/steps\n",
    "    x=x_min\n",
    "    y_min=f(x_min)\n",
    "    x_min_val=x_min\n",
    "\n",
    "    for i in range(steps):\n",
    "        y=f(x)\n",
    "        if y<y_min:\n",
    "            x_min_val=x\n",
    "            y_min=y\n",
    "        x+=step_size\n",
    "    \n",
    "    return x_min_val"
   ]
  },
  {
   "cell_type": "code",
   "execution_count": null,
   "metadata": {},
   "outputs": [],
   "source": [
    "find_min(lambda x: (1+x)**2,-10.,10.)"
   ]
  },
  {
   "cell_type": "markdown",
   "metadata": {},
   "source": [
    "## Histogram\n",
    "\n",
    "In Lab 4 you are asked to write a histogram function:\n",
    "\n",
    "* User inputs a list of values `x` and optionally `n_bins` which defaults to 10.\n",
    "* If not supplied, find the minimum and maximum (`x_min`,`x_max`) of the values in x.\n",
    "* Determine the bin size (`bin_size`) by dividing the range of the function by the number of bins.\n",
    "* Create an empty list of zeros of size `n_bins`, call it `hist`.\n",
    "* Loop over the values in `x`\n",
    "    * Loop over the values in `hist` with index `i`:\n",
    "        * If x is between `x_min+i*bin_size` and `x_min+(i+1)*bin_size`, increment `hist[i].` \n",
    "        * For efficiency, try to use continue to goto the next bin and data point.\n",
    "* Return `hist` and the list corresponding of the bin edges (i.e. of `x_min+i*bin_size`).    \n",
    "\n",
    "\n"
   ]
  },
  {
   "cell_type": "markdown",
   "metadata": {},
   "source": [
    "## Functional Programming\n",
    "\n",
    "In lab 3 you built a tic-tac-toe game by implementing a series of functions that performed various tasks, which you then combined in various ways to implement the game logic. What you wrote was a *structured program*, which consist of sequences of instructions, utilizing control flow (if/then/else), repetition (while and for), block structures, and function calls. \n",
    "\n",
    "*Functional Programming* is another style of programming that is not well suited to writing games, but is well suited to manipulating data. A functional program performs computation by evaluating mathematical functions, where the output only depend on the input. Data passes through as inputs/outputs of functions, but is otherwise never changed. This paradigm is often used in data science because manipulation of data can othen be viewed as composition of functions:\n",
    "\n",
    "$$\n",
    "D_{result} = f_n(f_{n-1}(...(f_0(D_{input}))))\n",
    "$$\n",
    "\n",
    "Consider the `find_min` example:"
   ]
  },
  {
   "cell_type": "code",
   "execution_count": 15,
   "metadata": {},
   "outputs": [],
   "source": [
    "def a_function(x):\n",
    "    return (1+x)**2\n",
    "\n",
    "def find_min_0(f,x_min,x_max,steps=10):\n",
    "    step_size=(x_max-x_min)/steps\n",
    "    x=x_min\n",
    "    y_min=f(x_min)\n",
    "    x_min_val=x_min\n",
    "\n",
    "    for i in range(steps):\n",
    "        y=f(x)\n",
    "        if y<y_min:\n",
    "            x_min_val=x\n",
    "            y_min=y\n",
    "        x+=step_size\n",
    "    \n",
    "    return x_min_val"
   ]
  },
  {
   "cell_type": "code",
   "execution_count": 22,
   "metadata": {},
   "outputs": [
    {
     "data": {
      "text/plain": [
       "-1.000000000000002"
      ]
     },
     "execution_count": 22,
     "metadata": {},
     "output_type": "execute_result"
    }
   ],
   "source": [
    "find_min_0(a_function,-10,10,100)"
   ]
  },
  {
   "cell_type": "markdown",
   "metadata": {},
   "source": [
    "Lets write the same thing in a more functional way by realizing that we can perform the same task as a set of composition of functions:"
   ]
  },
  {
   "cell_type": "code",
   "execution_count": 14,
   "metadata": {},
   "outputs": [],
   "source": [
    "def linspace(x_min,x_max,steps=10):\n",
    "    x=x_min\n",
    "    step_size=(x_max-x_min)/steps\n",
    "    out=list()\n",
    "    while x<x_max:\n",
    "        out.append(x)\n",
    "        x+=step_size\n",
    "    return out\n",
    "\n",
    "def arg_min(lst):\n",
    "    min_val=lst[0]\n",
    "    min_index=0\n",
    "    for i,val in enumerate(lst):\n",
    "        if val<min_val:\n",
    "            min_val=val\n",
    "            min_index=i\n",
    "            \n",
    "    return min_index\n",
    "\n",
    "def linspace(f,x_min,x_max,steps=10):\n",
    "    x_vals=a_range(x_min,x_max,steps)\n",
    "    y_vals=list(map(f,x_vals))\n",
    "    index=arg_min(y_vals)\n",
    "    return x_vals[index]\n",
    "\n"
   ]
  },
  {
   "cell_type": "code",
   "execution_count": 45,
   "metadata": {},
   "outputs": [
    {
     "data": {
      "text/plain": [
       "-1.000000000000002"
      ]
     },
     "execution_count": 45,
     "metadata": {},
     "output_type": "execute_result"
    }
   ],
   "source": [
    "find_min(a_function,-10,10,100)"
   ]
  },
  {
   "cell_type": "markdown",
   "metadata": {},
   "source": [
    "Note that `find_min` can be as a single evaluation:"
   ]
  },
  {
   "cell_type": "code",
   "execution_count": 20,
   "metadata": {},
   "outputs": [],
   "source": [
    "def find_min(f,x_min,x_max,steps=10):\n",
    "    return a_range(x_min,x_max,steps)[arg_min(list(map(f,a_range(x_min,x_max,steps))))]\n"
   ]
  },
  {
   "cell_type": "markdown",
   "metadata": {},
   "source": [
    "We could have implemented `a_range` and `arg_min` the same way, but instead of while loops use recursion:"
   ]
  },
  {
   "cell_type": "code",
   "execution_count": 35,
   "metadata": {},
   "outputs": [],
   "source": [
    "def a_range(x_min,x_max,steps=10):\n",
    "    if steps>1:\n",
    "        return [x_min] + a_range(x_min+((x_max-x_min)/steps),x_max,steps-1)\n",
    "    else:\n",
    "        return [x_min]\n",
    "        "
   ]
  },
  {
   "cell_type": "markdown",
   "metadata": {},
   "source": [
    "We are not going to write functions this way, but the idea is to get familiar with seeing data manipulations as a composition of functions."
   ]
  }
 ],
 "metadata": {
  "kernelspec": {
   "display_name": "Python 3",
   "language": "python",
   "name": "python3"
  },
  "language_info": {
   "codemirror_mode": {
    "name": "ipython",
    "version": 3
   },
   "file_extension": ".py",
   "mimetype": "text/x-python",
   "name": "python",
   "nbconvert_exporter": "python",
   "pygments_lexer": "ipython3",
   "version": "3.8.0"
  }
 },
 "nbformat": 4,
 "nbformat_minor": 2
}
